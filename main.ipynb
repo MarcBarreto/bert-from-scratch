{
  "nbformat": 4,
  "nbformat_minor": 0,
  "metadata": {
    "colab": {
      "provenance": [],
      "collapsed_sections": [
        "nB5ThvmGUWJg",
        "wGHvjOopVysP",
        "3B-lYwSbZ204"
      ]
    },
    "kernelspec": {
      "name": "python3",
      "display_name": "Python 3"
    },
    "language_info": {
      "name": "python"
    }
  },
  "cells": [
    {
      "cell_type": "code",
      "source": [
        "import random\n",
        "random.seed(10)"
      ],
      "metadata": {
        "id": "ihRMGBIwVMlc"
      },
      "execution_count": null,
      "outputs": []
    },
    {
      "cell_type": "code",
      "source": [
        "import re\n",
        "import math\n",
        "import torch\n",
        "import numpy as np\n",
        "import torch.nn as nn\n",
        "import torch.optim as optim\n",
        "import torch.nn.functional as F\n",
        "from random import *"
      ],
      "metadata": {
        "id": "0A20EmL2VKFL"
      },
      "execution_count": null,
      "outputs": []
    },
    {
      "cell_type": "markdown",
      "source": [
        "# **Loading Text**"
      ],
      "metadata": {
        "id": "nB5ThvmGUWJg"
      }
    },
    {
      "cell_type": "code",
      "execution_count": null,
      "metadata": {
        "colab": {
          "base_uri": "https://localhost:8080/"
        },
        "id": "Z6XzB2WtTwpO",
        "outputId": "cfd914b8-7552-4756-8f05-04afe0388b10"
      },
      "outputs": [
        {
          "output_type": "stream",
          "name": "stdout",
          "text": [
            "Mounted at /content/drive\n"
          ]
        }
      ],
      "source": [
        "from google.colab import drive\n",
        "\n",
        "drive.mount('/content/drive')\n",
        "\n",
        "import os\n",
        "\n",
        "path = '/content/drive/MyDrive/Colab Notebooks/Cap11'"
      ]
    },
    {
      "cell_type": "code",
      "source": [
        "text = open(os.path.join(path, 'texto.txt'), 'r').read()"
      ],
      "metadata": {
        "id": "iwBEM0aBT5qt"
      },
      "execution_count": null,
      "outputs": []
    },
    {
      "cell_type": "markdown",
      "source": [
        "# **Data PreProcessing**"
      ],
      "metadata": {
        "id": "wGHvjOopVysP"
      }
    },
    {
      "cell_type": "code",
      "source": [
        "sentences = re.sub('[,.!?\\\\-]', '', text.lower()).split('\\n')"
      ],
      "metadata": {
        "id": "LDPzcSixV3S4"
      },
      "execution_count": null,
      "outputs": []
    },
    {
      "cell_type": "code",
      "source": [
        "print(sentences)"
      ],
      "metadata": {
        "colab": {
          "base_uri": "https://localhost:8080/"
        },
        "id": "nAZnjzm2WYCV",
        "outputId": "2128f3fa-67a1-4516-85f7-4595d523595c"
      },
      "execution_count": null,
      "outputs": [
        {
          "output_type": "stream",
          "name": "stdout",
          "text": [
            "[\"'olá como vai eu sou a camila\\\\n'\", \"'olá camila meu nome é fernando muito prazer\\\\n'\", \"'prazer em conhecer você também como você está hoje\\\\n'\", \"'ótimo meu time de futebol venceu a competição\\\\n'\", \"'uau parabéns fernando\\\\n'\", \"'obrigado camila\\\\n'\", \"'vamos comer uma pizza mais tarde para celebrar\\\\n'\", \"'claro você recomenda algum restaurante camila\\\\n'\", \"'sim abriu um restaurante novo e dizem que a pizza de banana é fenomenal\\\\n'\", \"'ok nos encontramos no restaurante às sete da noite pode ser\\\\n'\", \"'pode sim nos vemos mais tarde então'\"]\n"
          ]
        }
      ]
    },
    {
      "cell_type": "code",
      "source": [
        "word_list = list(set(' '.join(sentences).split()))"
      ],
      "metadata": {
        "id": "xyjmll4HWZxN"
      },
      "execution_count": null,
      "outputs": []
    },
    {
      "cell_type": "code",
      "source": [
        "print(word_list)"
      ],
      "metadata": {
        "colab": {
          "base_uri": "https://localhost:8080/"
        },
        "id": "3ki_lGJLWn8W",
        "outputId": "aa9321e5-04bb-48f4-8259-8486a4b611d5"
      },
      "execution_count": null,
      "outputs": [
        {
          "output_type": "stream",
          "name": "stdout",
          "text": [
            "[\"fernando\\\\n'\", 'muito', \"'olá\", \"'vamos\", 'tarde', \"hoje\\\\n'\", \"'prazer\", 'venceu', \"prazer\\\\n'\", 'algum', \"competição\\\\n'\", 'conhecer', \"'uau\", \"'ok\", \"celebrar\\\\n'\", \"fenomenal\\\\n'\", 'novo', 'pode', 'restaurante', 'para', 'da', 'é', 'no', 'time', 'a', 'camila', 'um', 'encontramos', 'de', 'está', 'meu', 'pizza', 'em', \"'sim\", 'mais', 'abriu', 'e', 'você', 'vemos', \"'ótimo\", \"ser\\\\n'\", 'também', 'vai', 'parabéns', 'sim', \"então'\", 'recomenda', 'que', 'noite', 'nome', \"'claro\", 'fernando', 'eu', 'sou', 'comer', 'uma', \"camila\\\\n'\", 'sete', 'nos', 'às', 'dizem', 'banana', 'futebol', \"'pode\", 'como', \"'obrigado\"]\n"
          ]
        }
      ]
    },
    {
      "cell_type": "code",
      "source": [
        "word_dict = {'[PAD]': 0, '[CLS]': 1, '[SEP]': 2, '[MASK]': 3}"
      ],
      "metadata": {
        "id": "4jYXsfqsXK25"
      },
      "execution_count": null,
      "outputs": []
    },
    {
      "cell_type": "code",
      "source": [
        "word_dict"
      ],
      "metadata": {
        "colab": {
          "base_uri": "https://localhost:8080/"
        },
        "id": "tSOq1lQfXUlp",
        "outputId": "141cdc89-4bc4-49d8-bcc2-ba26981d0b18"
      },
      "execution_count": null,
      "outputs": [
        {
          "output_type": "execute_result",
          "data": {
            "text/plain": [
              "{'[PAD]': 0, '[CLS]': 1, '[SEP]': 2, '[MASK]': 3}"
            ]
          },
          "metadata": {},
          "execution_count": 12
        }
      ]
    },
    {
      "cell_type": "code",
      "source": [
        "for i, w in enumerate(word_list):\n",
        "    word_dict[w] = i + 4"
      ],
      "metadata": {
        "id": "dcyx48G5XkbN"
      },
      "execution_count": null,
      "outputs": []
    },
    {
      "cell_type": "code",
      "source": [
        "print(word_dict)"
      ],
      "metadata": {
        "colab": {
          "base_uri": "https://localhost:8080/"
        },
        "id": "dt52ufXSXqIB",
        "outputId": "db6c0d84-e6cc-48f6-cbfb-d28bee6077c7"
      },
      "execution_count": null,
      "outputs": [
        {
          "output_type": "stream",
          "name": "stdout",
          "text": [
            "{'[PAD]': 0, '[CLS]': 1, '[SEP]': 2, '[MASK]': 3, \"fernando\\\\n'\": 4, 'muito': 5, \"'olá\": 6, \"'vamos\": 7, 'tarde': 8, \"hoje\\\\n'\": 9, \"'prazer\": 10, 'venceu': 11, \"prazer\\\\n'\": 12, 'algum': 13, \"competição\\\\n'\": 14, 'conhecer': 15, \"'uau\": 16, \"'ok\": 17, \"celebrar\\\\n'\": 18, \"fenomenal\\\\n'\": 19, 'novo': 20, 'pode': 21, 'restaurante': 22, 'para': 23, 'da': 24, 'é': 25, 'no': 26, 'time': 27, 'a': 28, 'camila': 29, 'um': 30, 'encontramos': 31, 'de': 32, 'está': 33, 'meu': 34, 'pizza': 35, 'em': 36, \"'sim\": 37, 'mais': 38, 'abriu': 39, 'e': 40, 'você': 41, 'vemos': 42, \"'ótimo\": 43, \"ser\\\\n'\": 44, 'também': 45, 'vai': 46, 'parabéns': 47, 'sim': 48, \"então'\": 49, 'recomenda': 50, 'que': 51, 'noite': 52, 'nome': 53, \"'claro\": 54, 'fernando': 55, 'eu': 56, 'sou': 57, 'comer': 58, 'uma': 59, \"camila\\\\n'\": 60, 'sete': 61, 'nos': 62, 'às': 63, 'dizem': 64, 'banana': 65, 'futebol': 66, \"'pode\": 67, 'como': 68, \"'obrigado\": 69}\n"
          ]
        }
      ]
    },
    {
      "cell_type": "code",
      "source": [
        "number_dict = {i: w for i, w in enumerate(word_dict)}"
      ],
      "metadata": {
        "id": "CP8RMcaCX3JH"
      },
      "execution_count": null,
      "outputs": []
    },
    {
      "cell_type": "code",
      "source": [
        "print(number_dict)"
      ],
      "metadata": {
        "colab": {
          "base_uri": "https://localhost:8080/"
        },
        "id": "0sw5FlczYBej",
        "outputId": "7937e7d1-127d-449e-9118-a249a9462b89"
      },
      "execution_count": null,
      "outputs": [
        {
          "output_type": "stream",
          "name": "stdout",
          "text": [
            "{0: '[PAD]', 1: '[CLS]', 2: '[SEP]', 3: '[MASK]', 4: \"fernando\\\\n'\", 5: 'muito', 6: \"'olá\", 7: \"'vamos\", 8: 'tarde', 9: \"hoje\\\\n'\", 10: \"'prazer\", 11: 'venceu', 12: \"prazer\\\\n'\", 13: 'algum', 14: \"competição\\\\n'\", 15: 'conhecer', 16: \"'uau\", 17: \"'ok\", 18: \"celebrar\\\\n'\", 19: \"fenomenal\\\\n'\", 20: 'novo', 21: 'pode', 22: 'restaurante', 23: 'para', 24: 'da', 25: 'é', 26: 'no', 27: 'time', 28: 'a', 29: 'camila', 30: 'um', 31: 'encontramos', 32: 'de', 33: 'está', 34: 'meu', 35: 'pizza', 36: 'em', 37: \"'sim\", 38: 'mais', 39: 'abriu', 40: 'e', 41: 'você', 42: 'vemos', 43: \"'ótimo\", 44: \"ser\\\\n'\", 45: 'também', 46: 'vai', 47: 'parabéns', 48: 'sim', 49: \"então'\", 50: 'recomenda', 51: 'que', 52: 'noite', 53: 'nome', 54: \"'claro\", 55: 'fernando', 56: 'eu', 57: 'sou', 58: 'comer', 59: 'uma', 60: \"camila\\\\n'\", 61: 'sete', 62: 'nos', 63: 'às', 64: 'dizem', 65: 'banana', 66: 'futebol', 67: \"'pode\", 68: 'como', 69: \"'obrigado\"}\n"
          ]
        }
      ]
    },
    {
      "cell_type": "code",
      "source": [
        "vocab_size = len(word_dict)\n",
        "print(vocab_size)"
      ],
      "metadata": {
        "colab": {
          "base_uri": "https://localhost:8080/"
        },
        "id": "Tvvsj3u8YM0-",
        "outputId": "bc0d4989-20f2-49ce-d5d0-5f52574c305b"
      },
      "execution_count": null,
      "outputs": [
        {
          "output_type": "stream",
          "name": "stdout",
          "text": [
            "70\n"
          ]
        }
      ]
    },
    {
      "cell_type": "code",
      "source": [
        "token_list = list()"
      ],
      "metadata": {
        "id": "TSPViws2Yhxq"
      },
      "execution_count": null,
      "outputs": []
    },
    {
      "cell_type": "code",
      "source": [
        "for sentence in sentences:\n",
        "  arr = [word_dict[s] for s in sentence.split()]\n",
        "  token_list.append(arr)"
      ],
      "metadata": {
        "id": "a62ranL5YllJ"
      },
      "execution_count": null,
      "outputs": []
    },
    {
      "cell_type": "code",
      "source": [
        "text[0:29]"
      ],
      "metadata": {
        "colab": {
          "base_uri": "https://localhost:8080/",
          "height": 35
        },
        "id": "ZOqe8IijY22u",
        "outputId": "3f626d7d-1fd0-4c80-c166-27d371d8127f"
      },
      "execution_count": null,
      "outputs": [
        {
          "output_type": "execute_result",
          "data": {
            "text/plain": [
              "\"'Olá, como vai? Eu sou a Cami\""
            ],
            "application/vnd.google.colaboratory.intrinsic+json": {
              "type": "string"
            }
          },
          "metadata": {},
          "execution_count": 24
        }
      ]
    },
    {
      "cell_type": "code",
      "source": [
        "token_list[0]"
      ],
      "metadata": {
        "colab": {
          "base_uri": "https://localhost:8080/"
        },
        "id": "hbV8AwNvY8Lt",
        "outputId": "b7702e20-e112-4d57-c22f-bcf66060eb54"
      },
      "execution_count": null,
      "outputs": [
        {
          "output_type": "execute_result",
          "data": {
            "text/plain": [
              "[6, 68, 46, 56, 57, 28, 60]"
            ]
          },
          "metadata": {},
          "execution_count": 25
        }
      ]
    },
    {
      "cell_type": "markdown",
      "source": [
        "# **Hyperparameters**"
      ],
      "metadata": {
        "id": "3B-lYwSbZ204"
      }
    },
    {
      "cell_type": "code",
      "source": [
        "batch_size = 6\n",
        "n_segments = 2\n",
        "dropout = 0.2\n",
        "\n",
        "max_len = 100\n",
        "\n",
        "max_pred = 7\n",
        "\n",
        "n_layers = 6\n",
        "\n",
        "n_heads = 12\n",
        "\n",
        "d_model = 768\n",
        "\n",
        "d_ff = d_model * 4\n",
        "\n",
        "d_k = d_v = 64\n",
        "\n",
        "NUM_EPOCHS = 50"
      ],
      "metadata": {
        "id": "-qLaCuYcZ5Fb"
      },
      "execution_count": null,
      "outputs": []
    }
  ]
}