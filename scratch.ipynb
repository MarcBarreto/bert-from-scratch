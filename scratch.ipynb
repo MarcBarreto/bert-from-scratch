{
  "nbformat": 4,
  "nbformat_minor": 0,
  "metadata": {
    "colab": {
      "provenance": [],
      "collapsed_sections": [
        "nB5ThvmGUWJg",
        "wGHvjOopVysP"
      ]
    },
    "kernelspec": {
      "name": "python3",
      "display_name": "Python 3"
    },
    "language_info": {
      "name": "python"
    }
  },
  "cells": [
    {
      "cell_type": "code",
      "source": [
        "import random\n",
        "random.seed(10)"
      ],
      "metadata": {
        "id": "ihRMGBIwVMlc"
      },
      "execution_count": 1,
      "outputs": []
    },
    {
      "cell_type": "code",
      "source": [
        "import re\n",
        "import math\n",
        "import torch\n",
        "import numpy as np\n",
        "import torch.nn as nn\n",
        "import torch.optim as optim\n",
        "import torch.nn.functional as F\n",
        "from random import *"
      ],
      "metadata": {
        "id": "0A20EmL2VKFL"
      },
      "execution_count": 2,
      "outputs": []
    },
    {
      "cell_type": "markdown",
      "source": [
        "# **Loading Text**"
      ],
      "metadata": {
        "id": "nB5ThvmGUWJg"
      }
    },
    {
      "cell_type": "code",
      "execution_count": 3,
      "metadata": {
        "colab": {
          "base_uri": "https://localhost:8080/"
        },
        "id": "Z6XzB2WtTwpO",
        "outputId": "60946abb-3691-460f-d05e-6ebfc087ce8a"
      },
      "outputs": [
        {
          "output_type": "stream",
          "name": "stdout",
          "text": [
            "Mounted at /content/drive\n"
          ]
        }
      ],
      "source": [
        "from google.colab import drive\n",
        "\n",
        "drive.mount('/content/drive')\n",
        "\n",
        "import os\n",
        "\n",
        "path = '/content/drive/MyDrive/Colab Notebooks/Cap11'"
      ]
    },
    {
      "cell_type": "code",
      "source": [
        "text = open(os.path.join(path, 'texto.txt'), 'r').read()"
      ],
      "metadata": {
        "id": "iwBEM0aBT5qt"
      },
      "execution_count": 4,
      "outputs": []
    },
    {
      "cell_type": "markdown",
      "source": [
        "# **Data PreProcessing**"
      ],
      "metadata": {
        "id": "wGHvjOopVysP"
      }
    },
    {
      "cell_type": "code",
      "source": [
        "sentences = re.sub('[,.!?\\\\-]', '', text.lower()).split('\\n')"
      ],
      "metadata": {
        "id": "LDPzcSixV3S4"
      },
      "execution_count": 5,
      "outputs": []
    },
    {
      "cell_type": "code",
      "source": [
        "print(sentences)"
      ],
      "metadata": {
        "id": "nAZnjzm2WYCV"
      },
      "execution_count": null,
      "outputs": []
    },
    {
      "cell_type": "code",
      "source": [
        "word_list = list(set(' '.join(sentences).split()))"
      ],
      "metadata": {
        "id": "xyjmll4HWZxN"
      },
      "execution_count": 6,
      "outputs": []
    },
    {
      "cell_type": "code",
      "source": [
        "print(word_list)"
      ],
      "metadata": {
        "id": "3ki_lGJLWn8W"
      },
      "execution_count": null,
      "outputs": []
    },
    {
      "cell_type": "code",
      "source": [
        "word_dict = {'[PAD]': 0, '[CLS]': 1, '[SEP]': 2, '[MASK]': 3}"
      ],
      "metadata": {
        "id": "4jYXsfqsXK25"
      },
      "execution_count": 7,
      "outputs": []
    },
    {
      "cell_type": "code",
      "source": [
        "word_dict"
      ],
      "metadata": {
        "id": "tSOq1lQfXUlp"
      },
      "execution_count": null,
      "outputs": []
    },
    {
      "cell_type": "code",
      "source": [
        "for i, w in enumerate(word_list):\n",
        "    word_dict[w] = i + 4"
      ],
      "metadata": {
        "id": "dcyx48G5XkbN"
      },
      "execution_count": 8,
      "outputs": []
    },
    {
      "cell_type": "code",
      "source": [
        "print(word_dict)"
      ],
      "metadata": {
        "id": "dt52ufXSXqIB"
      },
      "execution_count": null,
      "outputs": []
    },
    {
      "cell_type": "code",
      "source": [
        "number_dict = {i: w for i, w in enumerate(word_dict)}"
      ],
      "metadata": {
        "id": "CP8RMcaCX3JH"
      },
      "execution_count": 9,
      "outputs": []
    },
    {
      "cell_type": "code",
      "source": [
        "print(number_dict)"
      ],
      "metadata": {
        "id": "0sw5FlczYBej"
      },
      "execution_count": null,
      "outputs": []
    },
    {
      "cell_type": "code",
      "source": [
        "vocab_size = len(word_dict)\n",
        "print(vocab_size)"
      ],
      "metadata": {
        "colab": {
          "base_uri": "https://localhost:8080/"
        },
        "id": "Tvvsj3u8YM0-",
        "outputId": "ec9da959-281e-4412-a2cd-7b43226da8b4"
      },
      "execution_count": 10,
      "outputs": [
        {
          "output_type": "stream",
          "name": "stdout",
          "text": [
            "70\n"
          ]
        }
      ]
    },
    {
      "cell_type": "code",
      "source": [
        "token_list = list()"
      ],
      "metadata": {
        "id": "TSPViws2Yhxq"
      },
      "execution_count": 11,
      "outputs": []
    },
    {
      "cell_type": "code",
      "source": [
        "for sentence in sentences:\n",
        "  arr = [word_dict[s] for s in sentence.split()]\n",
        "  token_list.append(arr)"
      ],
      "metadata": {
        "id": "a62ranL5YllJ"
      },
      "execution_count": 12,
      "outputs": []
    },
    {
      "cell_type": "code",
      "source": [
        "text[0:29]"
      ],
      "metadata": {
        "id": "ZOqe8IijY22u"
      },
      "execution_count": null,
      "outputs": []
    },
    {
      "cell_type": "code",
      "source": [
        "token_list[0]"
      ],
      "metadata": {
        "id": "hbV8AwNvY8Lt"
      },
      "execution_count": null,
      "outputs": []
    },
    {
      "cell_type": "markdown",
      "source": [
        "# **Hyperparameters**"
      ],
      "metadata": {
        "id": "3B-lYwSbZ204"
      }
    },
    {
      "cell_type": "code",
      "source": [
        "batch_size = 6\n",
        "n_segments = 2\n",
        "dropout = 0.2\n",
        "\n",
        "max_len = 100\n",
        "\n",
        "max_pred = 7\n",
        "\n",
        "n_layers = 6\n",
        "\n",
        "n_heads = 12\n",
        "\n",
        "d_model = 768\n",
        "\n",
        "d_ff = d_model * 4\n",
        "\n",
        "d_k = d_v = 64\n",
        "\n",
        "NUM_EPOCHS = 50"
      ],
      "metadata": {
        "id": "-qLaCuYcZ5Fb"
      },
      "execution_count": 13,
      "outputs": []
    },
    {
      "cell_type": "code",
      "source": [
        "def make_batch():\n",
        "  batch = []\n",
        "\n",
        "  positive = negative = 0\n",
        "\n",
        "  while positive != batch_size / 2 or negative != batch_size / 2:\n",
        "    tokens_a_index, tokens_b_index = randrange(len(sentences)), randrange(len(sentences))\n",
        "\n",
        "    tokens_a, tokens_b = token_list[tokens_a_index], token_list[tokens_b_index]\n",
        "\n",
        "    input_ids = [word_dict['[CLS]']] + tokens_a + [word_dict['[SEP]']] + tokens_b + [word_dict['[SEP]']]\n",
        "\n",
        "    segment_ids = [0] * (1 + len(tokens_a) + 1) + [1] * (1 + len(tokens_b))\n",
        "\n",
        "    n_pred = min(max_pred, max(1, int(round(len(input_ids) * 0.15))))\n",
        "\n",
        "    cand_maked_pos = [i for i, token in enumerate(input_ids) if token != word_dict['[CLS]'] and token != word_dict['[SEP]']]\n",
        "\n",
        "    shuffle(cand_maked_pos)\n",
        "\n",
        "    masked_tokens, masked_pos = [], []\n",
        "\n",
        "    for pos in cand_maked_pos[:n_pred]:\n",
        "      masked_pos.append(pos)\n",
        "      masked_tokens.append(input_ids[pos])\n",
        "\n",
        "      if random() < 0.8:\n",
        "        input_ids[pos] = word_dict['[MASK]']\n",
        "      elif random() < 0.5:\n",
        "        index = randint(0, vocab_size - 1)\n",
        "        input_ids[pos] = word_dict[number_dict[index]]\n",
        "\n",
        "    n_pad = max_len - len(input_ids)\n",
        "    input_ids.extend([0] * n_pad)\n",
        "    segment_ids.extend([0] * n_pad)\n",
        "\n",
        "    if max_pred > n_pred:\n",
        "      n_pad = max_pred - n_pred\n",
        "      masked_tokens.extend([0] * n_pad)\n",
        "      masked_pos.extend([0] * n_pad)\n",
        "\n",
        "    if tokens_a_index + 1 == tokens_b_index and positive < batch_size / 2:\n",
        "      batch.append([input_ids, segment_ids, masked_tokens, masked_pos, True])\n",
        "      positive += 1\n",
        "    elif tokens_a_index + 1 != tokens_b_index and negative < batch_size / 2:\n",
        "      batch.append([input_ids, segment_ids, masked_tokens, masked_pos, False])\n",
        "      negative += 1\n",
        "\n",
        "  return batch"
      ],
      "metadata": {
        "id": "6mp_GK9UHNxk"
      },
      "execution_count": 14,
      "outputs": []
    },
    {
      "cell_type": "code",
      "source": [
        "def get_attn_pad_masked(seq_q, seq_k):\n",
        "  batch_size, len_q = seq_q.size()\n",
        "  batch_size, len_k = seq_k.size()\n",
        "  pad_attn_masked = seq_k.data.eq(0).unsqueeze(1)\n",
        "  return pad_attn_masked.expand(batch_size, len_q, len_k)"
      ],
      "metadata": {
        "id": "i2IYEBuyRJw-"
      },
      "execution_count": 15,
      "outputs": []
    },
    {
      "cell_type": "code",
      "source": [
        "batch = make_batch()"
      ],
      "metadata": {
        "id": "R5WQOwcoX8Py"
      },
      "execution_count": 16,
      "outputs": []
    },
    {
      "cell_type": "code",
      "source": [
        "input_ids, segment_ids, masked_tokens, masked_pos, isNext = map(torch.LongTensor, zip(*batch))"
      ],
      "metadata": {
        "id": "fDrg5JY5YBcj"
      },
      "execution_count": 17,
      "outputs": []
    },
    {
      "cell_type": "code",
      "source": [
        "input_ids[0]"
      ],
      "metadata": {
        "id": "Swi_dtSpYLRE"
      },
      "execution_count": null,
      "outputs": []
    },
    {
      "cell_type": "code",
      "source": [
        "segment_ids[0]"
      ],
      "metadata": {
        "id": "3_RCsONxYNws"
      },
      "execution_count": null,
      "outputs": []
    },
    {
      "cell_type": "code",
      "source": [
        "masked_tokens[0]"
      ],
      "metadata": {
        "id": "aYKuyz-eYRc8"
      },
      "execution_count": null,
      "outputs": []
    },
    {
      "cell_type": "code",
      "source": [
        "masked_pos[0]"
      ],
      "metadata": {
        "id": "HdvO5jbtYTA9"
      },
      "execution_count": null,
      "outputs": []
    },
    {
      "cell_type": "code",
      "source": [
        "isNext[0]"
      ],
      "metadata": {
        "id": "zMXYFd2QYYNu"
      },
      "execution_count": null,
      "outputs": []
    },
    {
      "cell_type": "code",
      "source": [
        "get_attn_pad_masked(input_ids, input_ids)[0][0], input_ids[0]"
      ],
      "metadata": {
        "id": "U-ZVaxsmY7y9"
      },
      "execution_count": null,
      "outputs": []
    },
    {
      "cell_type": "markdown",
      "source": [
        "# **Creating Model**"
      ],
      "metadata": {
        "id": "5gMAGiafgE2J"
      }
    },
    {
      "cell_type": "code",
      "source": [
        "# GeLU Activation Function\n",
        "def gelu(x):\n",
        "  return x * 0.5 * (1.0 + torch.erf(x / math.sqrt(2.0)))"
      ],
      "metadata": {
        "id": "BrTTVK1FgK9i"
      },
      "execution_count": 19,
      "outputs": []
    },
    {
      "cell_type": "code",
      "source": [
        "class Embedding(nn.Module):\n",
        "  def __init__(self):\n",
        "    super(Embedding, self).__init__()\n",
        "\n",
        "    self.tok_embed = nn.Embedding(vocab_size, d_model)\n",
        "\n",
        "    self.pos_embed = nn.Embedding(max_len, d_model)\n",
        "\n",
        "    self.seg_embed = nn.Embedding(n_segments, d_model)\n",
        "\n",
        "    self.norm = nn.LayerNorm(d_model)\n",
        "\n",
        "  def forward(self, x, seg):\n",
        "    seq_len = x.size(1)\n",
        "\n",
        "    pos = torch.arange(seq_len, dtype = torch.long)\n",
        "\n",
        "    pos = pos.unsqueeze(0).expand_as(x)\n",
        "\n",
        "    embedding = self.tok_embed(x) + self.pos_embed(pos) + self.seg_embed(seg)\n",
        "\n",
        "    return self.norm(embedding)"
      ],
      "metadata": {
        "id": "yxEg5PI2r2do"
      },
      "execution_count": 26,
      "outputs": []
    },
    {
      "cell_type": "code",
      "source": [
        "class ScaledDotProductAttention(nn.Module):\n",
        "  def __init__(self):\n",
        "    super(ScaledDotProductAttention, self).__init__()\n",
        "\n",
        "  def forward(self, Q, K, V, attn_mask):\n",
        "    scores = torch.matmul(Q, K.transpose(-1, -2)) / np.sqrt(d_k)\n",
        "\n",
        "    scores.masked_fill_(attn_mask, -1e9)\n",
        "\n",
        "    attn = nn.Softmax(dim = -1)(scores)\n",
        "\n",
        "    context = torch.matmul(attn, V)\n",
        "\n",
        "    return context, attn"
      ],
      "metadata": {
        "id": "9NJqE5dy5XLZ"
      },
      "execution_count": 32,
      "outputs": []
    },
    {
      "cell_type": "code",
      "source": [
        "class MultiHeadAttention(nn.Module):\n",
        "  def __init__(self):\n",
        "    super(MultiHeadAttention, self).__init__()\n",
        "\n",
        "    self.W_Q = nn.Linear(d_model, d_k * n_heads)\n",
        "\n",
        "    self.W_K = nn.Linear(d_model, d_k * n_heads)\n",
        "\n",
        "    self.W_V = nn.Linear(d_model, d_v * n_heads)\n",
        "  def forward(self, Q, K, V, attn_mask):\n",
        "    residual, batch_size = Q, Q.size(0)\n",
        "\n",
        "    q_s = self.W_Q(Q).view(batch_size, -1, n_heads, d_k).transpose(1, 2)\n",
        "\n",
        "    k_s = self.W_K(K).view(batch_size, -1, n_heads, d_k).transpose(1, 2)\n",
        "\n",
        "    v_s = self.W_V(V).view(batch_size, -1, n_heads, d_v).transpose(1, 2)\n",
        "\n",
        "    attn_mask = attn_mask.unsqueeze(1).repeat(1, n_heads, 1, 1)\n",
        "\n",
        "    context, attn = ScaledDotProductAttention()(q_s, k_s, v_s, attn_mask)\n",
        "\n",
        "    context = context.transpose(1, 2).contiguous().view(batch_size, -1, n_heads * d_v)\n",
        "\n",
        "    output = nn.Linear(n_heads * d_v, d_model)(context)\n",
        "\n",
        "    return nn.LayerNorm(d_model)(output + residual), attn"
      ],
      "metadata": {
        "id": "imUzRmDX56Su"
      },
      "execution_count": 34,
      "outputs": []
    },
    {
      "cell_type": "code",
      "source": [
        "emb = Embedding()"
      ],
      "metadata": {
        "id": "1W5ygKjk7zWK"
      },
      "execution_count": 27,
      "outputs": []
    },
    {
      "cell_type": "code",
      "source": [
        "embeds = emb(input_ids, segment_ids)"
      ],
      "metadata": {
        "id": "P1f9GLHs70kK"
      },
      "execution_count": 28,
      "outputs": []
    },
    {
      "cell_type": "code",
      "source": [
        "attenM = get_attn_pad_masked(input_ids, input_ids)"
      ],
      "metadata": {
        "id": "54bViPnH72kz"
      },
      "execution_count": 30,
      "outputs": []
    },
    {
      "cell_type": "code",
      "source": [
        "MHA = MultiHeadAttention()(embeds, embeds, embeds, attenM)"
      ],
      "metadata": {
        "id": "1lhp_ZHm76Fz"
      },
      "execution_count": 35,
      "outputs": []
    },
    {
      "cell_type": "code",
      "source": [
        "output, A = MHA"
      ],
      "metadata": {
        "id": "M9prWMLF7_tD"
      },
      "execution_count": 36,
      "outputs": []
    },
    {
      "cell_type": "code",
      "source": [
        "A[0][0]"
      ],
      "metadata": {
        "id": "2PzhPKIM8E5-"
      },
      "execution_count": null,
      "outputs": []
    },
    {
      "cell_type": "code",
      "source": [
        "class PoswiseFeedForward(nn.Module):\n",
        "  def __init__(self):\n",
        "    super(PoswiseFeedForward, self).__init__()\n",
        "\n",
        "    self.fc1 = nn.Linear(d_model, d_ff)\n",
        "\n",
        "    self.fc2 = nn.Linear(d_ff, d_model)\n",
        "\n",
        "  def forward(self, x):\n",
        "    return self.fc2(gelu(self.fc1(x)))"
      ],
      "metadata": {
        "id": "0-a0QWaI-_Us"
      },
      "execution_count": 38,
      "outputs": []
    },
    {
      "cell_type": "code",
      "source": [
        "class EncoderLayer(nn.Module):\n",
        "  def __init__(self):\n",
        "    super(EncoderLayer, self).__init__()\n",
        "\n",
        "    self.enc_self_attn = MultiHeadAttention()\n",
        "\n",
        "    self.pos_ffn = PoswiseFeedForward()\n",
        "\n",
        "  def forward(self, enc_inputs, enc_self_attn_mask):\n",
        "    enc_inputs, attn = self.enc_self_attn(enc_inputs, enc_inputs, enc_inputs, enc_self_attn_mask)\n",
        "\n",
        "    enc_inputs = self.pos_ffn(enc_inputs)\n",
        "\n",
        "    return enc_inputs, attn"
      ],
      "metadata": {
        "id": "yC9ecDXPACxb"
      },
      "execution_count": 41,
      "outputs": []
    },
    {
      "cell_type": "code",
      "source": [
        "class BERT(nn.Module):\n",
        "  def __init__(self):\n",
        "    super(BERT, self).__init__()\n",
        "\n",
        "    self.embedding = Embedding()\n",
        "\n",
        "    self.layers = nn.ModuleList([EncoderLayer() for _ in range(n_layers)])\n",
        "\n",
        "    self.fc = nn.Linear(d_model, d_model)\n",
        "\n",
        "    self.activ1 = nn.Tanh()\n",
        "\n",
        "    self.linear = nn.Linear(d_model, d_model)\n",
        "\n",
        "    self.activ2 = gelu\n",
        "\n",
        "    self.norm = nn.LayerNorm(d_model)\n",
        "\n",
        "    self.classifier = nn.Linear(d_model, 2)\n",
        "\n",
        "    embed_weight = self.embedding.tok_embed.weight\n",
        "\n",
        "    n_vocab, n_dim = embed_weight.size()\n",
        "\n",
        "    self.decoder = nn.Linear(n_dim, n_vocab, bias = False)\n",
        "\n",
        "    self.decoder.weight = embed_weight\n",
        "\n",
        "    self.decoder_bias = nn.Parameter(torch.zeros(n_vocab))\n",
        "\n",
        "  def forward(self, input_ids, segment_ids, masked_pos):\n",
        "    output = self.embedding(input_ids, segment_ids)\n",
        "\n",
        "    enc_self_attn_mask = get_attn_pad_masked(input_ids, input_ids)\n",
        "\n",
        "    for layer in self.layers:\n",
        "      output, enc_self_attn = layer(output, enc_self_attn_mask)\n",
        "\n",
        "    h_pooled = self.activ1(self.fc(output[:, 0]))\n",
        "\n",
        "    logits_clsf = self.classifier(h_pooled)\n",
        "\n",
        "    masked_pos = masked_pos[:, :, None].expand(-1, -1, output.size(-1))\n",
        "\n",
        "    h_masked = torch.gather(output, 1, masked_pos)\n",
        "\n",
        "    h_masked = self.norm(self.activ2(self.linear(h_masked)))\n",
        "\n",
        "    logits_lm = self.decoder(h_masked) + self.decoder_bias\n",
        "\n",
        "    return logits_lm, logits_clsf"
      ],
      "metadata": {
        "id": "bZ4zv-mWBacI"
      },
      "execution_count": 44,
      "outputs": []
    },
    {
      "cell_type": "markdown",
      "source": [
        "# **Training and Evaluating**"
      ],
      "metadata": {
        "id": "j0xKh1-bHznq"
      }
    },
    {
      "cell_type": "code",
      "source": [
        "model = BERT()"
      ],
      "metadata": {
        "id": "udB15dL2H29T"
      },
      "execution_count": 45,
      "outputs": []
    },
    {
      "cell_type": "code",
      "source": [
        "criterion = nn.CrossEntropyLoss()"
      ],
      "metadata": {
        "id": "HuH45N3XICjE"
      },
      "execution_count": 46,
      "outputs": []
    },
    {
      "cell_type": "code",
      "source": [
        "optimizer = optim.Adam(model.parameters(), lr = 0.001)"
      ],
      "metadata": {
        "id": "DUXtnoX5IEi0"
      },
      "execution_count": 47,
      "outputs": []
    },
    {
      "cell_type": "code",
      "source": [
        "batch = make_batch()"
      ],
      "metadata": {
        "id": "p2x-GGbLIJVe"
      },
      "execution_count": 48,
      "outputs": []
    },
    {
      "cell_type": "code",
      "source": [
        "input_ids, segment_ids, masked_tokens, masked_pos, isNext = map(torch.LongTensor, zip(*batch))"
      ],
      "metadata": {
        "id": "WfPqU0bBILBe"
      },
      "execution_count": 49,
      "outputs": []
    },
    {
      "cell_type": "code",
      "source": [
        "%%time\n",
        "\n",
        "for epoch in range(NUM_EPOCHS):\n",
        "  optimizer.zero_grad()\n",
        "\n",
        "  logits_lm, logits_clsf = model(input_ids, segment_ids, masked_pos)\n",
        "\n",
        "  loss_lm = criterion(logits_lm.transpose(1, 2), masked_tokens)\n",
        "\n",
        "  loss_lm = (loss_lm.float()).mean()\n",
        "\n",
        "  loss_clsf = criterion(logits_clsf, isNext)\n",
        "\n",
        "  loss = loss_lm + loss_clsf\n",
        "\n",
        "  print(f'Epoch: {epoch + 1} |  Loss: {loss:.4f}')\n",
        "\n",
        "  loss.backward()\n",
        "\n",
        "  optimizer.step()"
      ],
      "metadata": {
        "colab": {
          "base_uri": "https://localhost:8080/"
        },
        "id": "wS-RkphkIUrn",
        "outputId": "46c65793-f093-4bb6-8bf5-752ec72aa114"
      },
      "execution_count": 50,
      "outputs": [
        {
          "output_type": "stream",
          "name": "stdout",
          "text": [
            "Epoch: 1 |  Loss: 38.5393\n",
            "Epoch: 2 |  Loss: 57.4285\n",
            "Epoch: 3 |  Loss: 399.7698\n",
            "Epoch: 4 |  Loss: 32.2759\n",
            "Epoch: 5 |  Loss: 185.1717\n",
            "Epoch: 6 |  Loss: 153.7152\n",
            "Epoch: 7 |  Loss: 104.8441\n",
            "Epoch: 8 |  Loss: 51.2949\n",
            "Epoch: 9 |  Loss: 25.0522\n",
            "Epoch: 10 |  Loss: 32.6132\n",
            "Epoch: 11 |  Loss: 35.1836\n",
            "Epoch: 12 |  Loss: 34.4254\n",
            "Epoch: 13 |  Loss: 32.2264\n",
            "Epoch: 14 |  Loss: 28.5859\n",
            "Epoch: 15 |  Loss: 29.6822\n",
            "Epoch: 16 |  Loss: 24.7766\n",
            "Epoch: 17 |  Loss: 23.5038\n",
            "Epoch: 18 |  Loss: 21.1413\n",
            "Epoch: 19 |  Loss: 18.2570\n",
            "Epoch: 20 |  Loss: 20.4313\n",
            "Epoch: 21 |  Loss: 18.0008\n",
            "Epoch: 22 |  Loss: 16.4335\n",
            "Epoch: 23 |  Loss: 16.8644\n",
            "Epoch: 24 |  Loss: 17.0902\n",
            "Epoch: 25 |  Loss: 16.7000\n",
            "Epoch: 26 |  Loss: 16.3458\n",
            "Epoch: 27 |  Loss: 16.0131\n",
            "Epoch: 28 |  Loss: 16.5449\n",
            "Epoch: 29 |  Loss: 15.0464\n",
            "Epoch: 30 |  Loss: 15.1947\n",
            "Epoch: 31 |  Loss: 15.2720\n",
            "Epoch: 32 |  Loss: 14.9812\n",
            "Epoch: 33 |  Loss: 14.4163\n",
            "Epoch: 34 |  Loss: 13.6253\n",
            "Epoch: 35 |  Loss: 13.5644\n",
            "Epoch: 36 |  Loss: 13.2783\n",
            "Epoch: 37 |  Loss: 12.8853\n",
            "Epoch: 38 |  Loss: 12.7745\n",
            "Epoch: 39 |  Loss: 11.2822\n",
            "Epoch: 40 |  Loss: 10.9087\n",
            "Epoch: 41 |  Loss: 10.7121\n",
            "Epoch: 42 |  Loss: 9.9231\n",
            "Epoch: 43 |  Loss: 9.6989\n",
            "Epoch: 44 |  Loss: 9.2056\n",
            "Epoch: 45 |  Loss: 8.5647\n",
            "Epoch: 46 |  Loss: 8.3059\n",
            "Epoch: 47 |  Loss: 7.7498\n",
            "Epoch: 48 |  Loss: 7.3576\n",
            "Epoch: 49 |  Loss: 7.3317\n",
            "Epoch: 50 |  Loss: 6.6190\n",
            "CPU times: user 3min 23s, sys: 3.23 s, total: 3min 26s\n",
            "Wall time: 3min 53s\n"
          ]
        }
      ]
    },
    {
      "cell_type": "markdown",
      "source": [
        "**Extracting Predict of Trained LLM**"
      ],
      "metadata": {
        "id": "45eLWKzLJcQt"
      }
    },
    {
      "cell_type": "code",
      "source": [
        "input_ids, segment_ids, masked_tokens, masked_pos, isNext = map(torch.LongTensor, zip(*batch))\n",
        "print(text)\n",
        "print([number_dict[w.item()] for w in input_ids[0] if number_dict[w.item()] != '[PAD]'])"
      ],
      "metadata": {
        "colab": {
          "base_uri": "https://localhost:8080/"
        },
        "id": "lfYOdOwFJkd5",
        "outputId": "e4d12348-3d6e-422f-dca3-9f1903a8cc95"
      },
      "execution_count": 51,
      "outputs": [
        {
          "output_type": "stream",
          "name": "stdout",
          "text": [
            "'Olá, como vai? Eu sou a Camila.\\n'\n",
            "'Olá, Camila, meu nome é Fernando. Muito prazer.\\n'\n",
            "'Prazer em conhecer você também. Como você está hoje?\\n'\n",
            "'Ótimo. Meu time de futebol venceu a competição.\\n'\n",
            "'Uau, Parabéns Fernando!\\n'\n",
            "'Obrigado Camila.\\n'\n",
            "'Vamos comer uma pizza mais tarde para celebrar?\\n'\n",
            "'Claro. Você recomenda algum restaurante Camila?\\n'\n",
            "'Sim, abriu um restaurante novo e dizem que a pizza de banana é fenomenal.\\n'\n",
            "'Ok. Nos encontramos no restaurante às sete da noite, pode ser?\\n'\n",
            "'Pode sim. Nos vemos mais tarde então.'\n",
            "['[CLS]', \"'olá\", '[MASK]', 'vai', 'eu', 'sou', 'a', \"camila\\\\n'\", '[SEP]', \"'ok\", 'nos', 'encontramos', 'no', 'restaurante', 'às', 'sete', '[MASK]', 'noite', 'pode', 'muito', '[SEP]']\n"
          ]
        }
      ]
    },
    {
      "cell_type": "code",
      "source": [
        "logits_lm, logits_clsf = model(input_ids, segment_ids, masked_pos)\n",
        "logits_lm = logits_lm.data.max(2)[1][0].data.numpy()\n",
        "\n",
        "print('Real Tokens: ', [pos.item() for pos in masked_tokens[0] if pos.item() != 0])\n",
        "print('Predicted Tokens: ', [pos for pos in logits_lm if pos != 0])"
      ],
      "metadata": {
        "colab": {
          "base_uri": "https://localhost:8080/"
        },
        "id": "x-UymmOAJ1Yf",
        "outputId": "e9d09c84-84de-46e1-97b5-8e29997ad7e9"
      },
      "execution_count": 56,
      "outputs": [
        {
          "output_type": "stream",
          "name": "stdout",
          "text": [
            "Real Tokens:  [8, 4, 22]\n",
            "Predicted Tokens:  [38, 38, 38]\n"
          ]
        }
      ]
    },
    {
      "cell_type": "code",
      "source": [
        "logits_clsf = logits_clsf.data.max(1)[1].data.numpy()[0]\n",
        "print('Real Next: ', True if isNext[0] else False)\n",
        "print('Predicted Next: ', True if logits_clsf else False)"
      ],
      "metadata": {
        "colab": {
          "base_uri": "https://localhost:8080/"
        },
        "id": "YPg5QGk6KUPn",
        "outputId": "28dc128e-2298-435d-fcfd-1c5f46a01530"
      },
      "execution_count": 57,
      "outputs": [
        {
          "output_type": "stream",
          "name": "stdout",
          "text": [
            "Real Next:  False\n",
            "Predicted Next True\n"
          ]
        }
      ]
    }
  ]
}