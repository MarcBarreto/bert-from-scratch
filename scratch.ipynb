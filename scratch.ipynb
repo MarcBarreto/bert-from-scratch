{
  "nbformat": 4,
  "nbformat_minor": 0,
  "metadata": {
    "colab": {
      "provenance": [],
      "collapsed_sections": [
        "nB5ThvmGUWJg",
        "wGHvjOopVysP"
      ]
    },
    "kernelspec": {
      "name": "python3",
      "display_name": "Python 3"
    },
    "language_info": {
      "name": "python"
    }
  },
  "cells": [
    {
      "cell_type": "code",
      "source": [
        "import random\n",
        "random.seed(10)"
      ],
      "metadata": {
        "id": "ihRMGBIwVMlc"
      },
      "execution_count": null,
      "outputs": []
    },
    {
      "cell_type": "code",
      "source": [
        "import re\n",
        "import math\n",
        "import torch\n",
        "import numpy as np\n",
        "import torch.nn as nn\n",
        "import torch.optim as optim\n",
        "import torch.nn.functional as F\n",
        "from random import *"
      ],
      "metadata": {
        "id": "0A20EmL2VKFL"
      },
      "execution_count": null,
      "outputs": []
    },
    {
      "cell_type": "markdown",
      "source": [
        "# **Loading Text**"
      ],
      "metadata": {
        "id": "nB5ThvmGUWJg"
      }
    },
    {
      "cell_type": "code",
      "execution_count": null,
      "metadata": {
        "colab": {
          "base_uri": "https://localhost:8080/"
        },
        "id": "Z6XzB2WtTwpO",
        "outputId": "879ff6ef-3c76-445e-8dc9-1d361a3d04f6"
      },
      "outputs": [
        {
          "output_type": "stream",
          "name": "stdout",
          "text": [
            "Mounted at /content/drive\n"
          ]
        }
      ],
      "source": [
        "from google.colab import drive\n",
        "\n",
        "drive.mount('/content/drive')\n",
        "\n",
        "import os\n",
        "\n",
        "path = '/content/drive/MyDrive/Colab Notebooks/Cap11'"
      ]
    },
    {
      "cell_type": "code",
      "source": [
        "text = open(os.path.join(path, 'texto.txt'), 'r').read()"
      ],
      "metadata": {
        "id": "iwBEM0aBT5qt"
      },
      "execution_count": null,
      "outputs": []
    },
    {
      "cell_type": "markdown",
      "source": [
        "# **Data PreProcessing**"
      ],
      "metadata": {
        "id": "wGHvjOopVysP"
      }
    },
    {
      "cell_type": "code",
      "source": [
        "sentences = re.sub('[,.!?\\\\-]', '', text.lower()).split('\\n')"
      ],
      "metadata": {
        "id": "LDPzcSixV3S4"
      },
      "execution_count": null,
      "outputs": []
    },
    {
      "cell_type": "code",
      "source": [
        "print(sentences)"
      ],
      "metadata": {
        "id": "nAZnjzm2WYCV"
      },
      "execution_count": null,
      "outputs": []
    },
    {
      "cell_type": "code",
      "source": [
        "word_list = list(set(' '.join(sentences).split()))"
      ],
      "metadata": {
        "id": "xyjmll4HWZxN"
      },
      "execution_count": null,
      "outputs": []
    },
    {
      "cell_type": "code",
      "source": [
        "print(word_list)"
      ],
      "metadata": {
        "id": "3ki_lGJLWn8W"
      },
      "execution_count": null,
      "outputs": []
    },
    {
      "cell_type": "code",
      "source": [
        "word_dict = {'[PAD]': 0, '[CLS]': 1, '[SEP]': 2, '[MASK]': 3}"
      ],
      "metadata": {
        "id": "4jYXsfqsXK25"
      },
      "execution_count": null,
      "outputs": []
    },
    {
      "cell_type": "code",
      "source": [
        "word_dict"
      ],
      "metadata": {
        "id": "tSOq1lQfXUlp"
      },
      "execution_count": null,
      "outputs": []
    },
    {
      "cell_type": "code",
      "source": [
        "for i, w in enumerate(word_list):\n",
        "    word_dict[w] = i + 4"
      ],
      "metadata": {
        "id": "dcyx48G5XkbN"
      },
      "execution_count": null,
      "outputs": []
    },
    {
      "cell_type": "code",
      "source": [
        "print(word_dict)"
      ],
      "metadata": {
        "id": "dt52ufXSXqIB"
      },
      "execution_count": null,
      "outputs": []
    },
    {
      "cell_type": "code",
      "source": [
        "number_dict = {i: w for i, w in enumerate(word_dict)}"
      ],
      "metadata": {
        "id": "CP8RMcaCX3JH"
      },
      "execution_count": null,
      "outputs": []
    },
    {
      "cell_type": "code",
      "source": [
        "print(number_dict)"
      ],
      "metadata": {
        "id": "0sw5FlczYBej"
      },
      "execution_count": null,
      "outputs": []
    },
    {
      "cell_type": "code",
      "source": [
        "vocab_size = len(word_dict)\n",
        "print(vocab_size)"
      ],
      "metadata": {
        "colab": {
          "base_uri": "https://localhost:8080/"
        },
        "id": "Tvvsj3u8YM0-",
        "outputId": "af8df6e0-ca31-40c7-ec44-632407258a2b"
      },
      "execution_count": null,
      "outputs": [
        {
          "output_type": "stream",
          "name": "stdout",
          "text": [
            "70\n"
          ]
        }
      ]
    },
    {
      "cell_type": "code",
      "source": [
        "token_list = list()"
      ],
      "metadata": {
        "id": "TSPViws2Yhxq"
      },
      "execution_count": null,
      "outputs": []
    },
    {
      "cell_type": "code",
      "source": [
        "for sentence in sentences:\n",
        "  arr = [word_dict[s] for s in sentence.split()]\n",
        "  token_list.append(arr)"
      ],
      "metadata": {
        "id": "a62ranL5YllJ"
      },
      "execution_count": null,
      "outputs": []
    },
    {
      "cell_type": "code",
      "source": [
        "text[0:29]"
      ],
      "metadata": {
        "id": "ZOqe8IijY22u"
      },
      "execution_count": null,
      "outputs": []
    },
    {
      "cell_type": "code",
      "source": [
        "token_list[0]"
      ],
      "metadata": {
        "id": "hbV8AwNvY8Lt"
      },
      "execution_count": null,
      "outputs": []
    },
    {
      "cell_type": "markdown",
      "source": [
        "# **Hyperparameters**"
      ],
      "metadata": {
        "id": "3B-lYwSbZ204"
      }
    },
    {
      "cell_type": "code",
      "source": [
        "batch_size = 6\n",
        "n_segments = 2\n",
        "dropout = 0.2\n",
        "\n",
        "max_len = 100\n",
        "\n",
        "max_pred = 7\n",
        "\n",
        "n_layers = 6\n",
        "\n",
        "n_heads = 12\n",
        "\n",
        "d_model = 768\n",
        "\n",
        "d_ff = d_model * 4\n",
        "\n",
        "d_k = d_v = 64\n",
        "\n",
        "NUM_EPOCHS = 50"
      ],
      "metadata": {
        "id": "-qLaCuYcZ5Fb"
      },
      "execution_count": null,
      "outputs": []
    },
    {
      "cell_type": "code",
      "source": [
        "def make_batch():\n",
        "  batch = []\n",
        "\n",
        "  positive = negative = 0\n",
        "\n",
        "  while positive != batch_size / 2 or negative != batch_size / 2:\n",
        "    tokens_a_index, tokens_b_index = randrange(len(sentences)), randrange(len(sentences))\n",
        "\n",
        "    tokens_a, tokens_b = token_list[tokens_a_index], token_list[tokens_b_index]\n",
        "\n",
        "    input_ids = [word_dict['[CLS]']] + tokens_a + [word_dict['[SEP]']] + tokens_b + [word_dict['[SEP]']]\n",
        "\n",
        "    segment_ids = [0] * (1 + len(tokens_a) + 1) + [1] * (1 + len(tokens_b))\n",
        "\n",
        "    n_pred = min(max_pred, max(1, int(round(len(input_ids) * 0.15))))\n",
        "\n",
        "    cand_maked_pos = [i for i, token in enumerate(input_ids) if token != word_dict['[CLS]'] and token != word_dict['[SEP]']]\n",
        "\n",
        "    shuffle(cand_maked_pos)\n",
        "\n",
        "    masked_tokens, masked_pos = [], []\n",
        "\n",
        "    for pos in cand_maked_pos[:n_pred]:\n",
        "      masked_pos.append(pos)\n",
        "      masked_tokens.append(input_ids[pos])\n",
        "\n",
        "      if random() < 0.8:\n",
        "        input_ids[pos] = word_dict['[MASK]']\n",
        "      elif random() < 0.5:\n",
        "        index = randint(0, vocab_size - 1)\n",
        "        input_ids[pos] = word_dict[number_dict[index]]\n",
        "\n",
        "    n_pad = max_len - len(input_ids)\n",
        "    input_ids.extend([0] * n_pad)\n",
        "    segment_ids.extend([0] * n_pad)\n",
        "\n",
        "    if max_pred > n_pred:\n",
        "      n_pad = max_pred - n_pred\n",
        "      masked_tokens.extend([0] * n_pad)\n",
        "      masked_pos.extend([0] * n_pad)\n",
        "\n",
        "    if tokens_a_index + 1 == tokens_b_index and positive < batch_size / 2:\n",
        "      batch.append([input_ids, segment_ids, masked_tokens, masked_pos, True])\n",
        "      positive += 1\n",
        "    elif tokens_a_index + 1 != tokens_b_index and negative < batch_size / 2:\n",
        "      batch.append([input_ids, segment_ids, masked_tokens, masked_pos, False])\n",
        "      negative += 1\n",
        "\n",
        "  return batch"
      ],
      "metadata": {
        "id": "6mp_GK9UHNxk"
      },
      "execution_count": null,
      "outputs": []
    },
    {
      "cell_type": "code",
      "source": [
        "def get_attn_pad_masked(seq_q, seq_k):\n",
        "  batch_size, len_q = seq_q.size()\n",
        "  batch_size, len_k = seq_k.size()\n",
        "  pad_attn_masked = seq_k.data.eq(0).unsqueeze(1)\n",
        "  return pad_attn_masked.expand(batch_size, len_q, len_k)"
      ],
      "metadata": {
        "id": "i2IYEBuyRJw-"
      },
      "execution_count": null,
      "outputs": []
    },
    {
      "cell_type": "code",
      "source": [
        "batch = make_batch()"
      ],
      "metadata": {
        "id": "R5WQOwcoX8Py"
      },
      "execution_count": null,
      "outputs": []
    },
    {
      "cell_type": "code",
      "source": [
        "input_ids, segment_ids, masked_tokens, masked_pos, isNext = map(torch.LongTensor, zip(*batch))"
      ],
      "metadata": {
        "id": "fDrg5JY5YBcj"
      },
      "execution_count": null,
      "outputs": []
    },
    {
      "cell_type": "code",
      "source": [
        "input_ids[0]"
      ],
      "metadata": {
        "id": "Swi_dtSpYLRE"
      },
      "execution_count": null,
      "outputs": []
    },
    {
      "cell_type": "code",
      "source": [
        "segment_ids[0]"
      ],
      "metadata": {
        "id": "3_RCsONxYNws"
      },
      "execution_count": null,
      "outputs": []
    },
    {
      "cell_type": "code",
      "source": [
        "masked_tokens[0]"
      ],
      "metadata": {
        "id": "aYKuyz-eYRc8"
      },
      "execution_count": null,
      "outputs": []
    },
    {
      "cell_type": "code",
      "source": [
        "masked_pos[0]"
      ],
      "metadata": {
        "id": "HdvO5jbtYTA9"
      },
      "execution_count": null,
      "outputs": []
    },
    {
      "cell_type": "code",
      "source": [
        "isNext[0]"
      ],
      "metadata": {
        "id": "zMXYFd2QYYNu"
      },
      "execution_count": null,
      "outputs": []
    },
    {
      "cell_type": "code",
      "source": [
        "get_attn_pad_masked(input_ids, input_ids)[0][0], input_ids[0]"
      ],
      "metadata": {
        "id": "U-ZVaxsmY7y9"
      },
      "execution_count": null,
      "outputs": []
    },
    {
      "cell_type": "markdown",
      "source": [
        "# **Creating Model**"
      ],
      "metadata": {
        "id": "5gMAGiafgE2J"
      }
    },
    {
      "cell_type": "code",
      "source": [
        "# GeLU Activation Function\n",
        "def gelu(x):\n",
        "  return x * 0.5 * (1.0 + torch.erf(x / math.sqrt(2.0)))"
      ],
      "metadata": {
        "id": "BrTTVK1FgK9i"
      },
      "execution_count": null,
      "outputs": []
    },
    {
      "cell_type": "code",
      "source": [
        "class Embedding(nn.Module):\n",
        "  def __init__(self):\n",
        "    super(Embedding, self).__init__()\n",
        "\n",
        "    self.tok_embed = nn.Embedding(vocab_size, d_model)\n",
        "\n",
        "    self.pos_embed = nn.Embedding(maxlen, d_model)\n",
        "\n",
        "    self.seg_embed = nn.Embedding(n_segments, d_model)\n",
        "\n",
        "    self.norm = nn.LayerNorm(d_model)\n",
        "\n",
        "  def forward(self, x, seg):\n",
        "    seq_len = x.size(1)\n",
        "\n",
        "    pos = torch.arange(batch_size, seq_len)\n",
        "\n",
        "    pos = pos.unsqueeze(0).expand_as(x)\n",
        "\n",
        "    embedding = self.tok_embed(x) + self.pos_embed(pos) + self.seg_embed(seg)\n",
        "\n",
        "    return self.norm(embedding)"
      ],
      "metadata": {
        "id": "yxEg5PI2r2do"
      },
      "execution_count": null,
      "outputs": []
    }
  ]
}